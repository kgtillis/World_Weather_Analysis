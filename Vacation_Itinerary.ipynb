{
 "cells": [
  {
   "cell_type": "code",
   "execution_count": 1,
   "metadata": {},
   "outputs": [],
   "source": [
    "# -- WeatherPy Challenge, Weather Database \n",
    "# -- Challenge Part 3: Create a Travel Itinerary \n",
    "#    with a Corresponding Map\n",
    "\n",
    "# -- Refactored and consolidated code throughout for a cleaner file. \n",
    "# -- Total Cells reduced to 4.\n",
    "\n",
    "# -- Importing and loading dependencies.\n",
    "import pandas as pd\n",
    "import os \n",
    "import gmaps\n",
    "import gmaps.datasets\n",
    "\n",
    "# Store the CSV you saved created in Part 2 into a DataFrame.\n",
    "vacation_data_df = pd.read_csv(\"weather_data/WeatherPy_vacation.csv\")\n",
    "\n",
    "# Import the API key.\n",
    "from config import g_key \n",
    "\n",
    "# Configure gmaps to use your Google API key.\n",
    "gmaps.configure(api_key=g_key)"
   ]
  },
  {
   "cell_type": "code",
   "execution_count": 2,
   "metadata": {},
   "outputs": [
    {
     "data": {
      "text/html": [
       "<div>\n",
       "<style scoped>\n",
       "    .dataframe tbody tr th:only-of-type {\n",
       "        vertical-align: middle;\n",
       "    }\n",
       "\n",
       "    .dataframe tbody tr th {\n",
       "        vertical-align: top;\n",
       "    }\n",
       "\n",
       "    .dataframe thead th {\n",
       "        text-align: right;\n",
       "    }\n",
       "</style>\n",
       "<table border=\"1\" class=\"dataframe\">\n",
       "  <thead>\n",
       "    <tr style=\"text-align: right;\">\n",
       "      <th></th>\n",
       "      <th>City_ID</th>\n",
       "      <th>City</th>\n",
       "      <th>Country</th>\n",
       "      <th>Max Temp</th>\n",
       "      <th>Current Description</th>\n",
       "      <th>Lat</th>\n",
       "      <th>Lng</th>\n",
       "      <th>Hotel Name</th>\n",
       "    </tr>\n",
       "  </thead>\n",
       "  <tbody>\n",
       "    <tr>\n",
       "      <th>0</th>\n",
       "      <td>121</td>\n",
       "      <td>Touros</td>\n",
       "      <td>BR</td>\n",
       "      <td>75.2</td>\n",
       "      <td>thunderstorm with light rain</td>\n",
       "      <td>-5.20</td>\n",
       "      <td>-35.46</td>\n",
       "      <td>INN NEW HORIZON</td>\n",
       "    </tr>\n",
       "    <tr>\n",
       "      <th>1</th>\n",
       "      <td>123</td>\n",
       "      <td>Cabedelo</td>\n",
       "      <td>BR</td>\n",
       "      <td>78.8</td>\n",
       "      <td>scattered clouds</td>\n",
       "      <td>-6.98</td>\n",
       "      <td>-34.83</td>\n",
       "      <td>Lua Mansa Pousada</td>\n",
       "    </tr>\n",
       "    <tr>\n",
       "      <th>2</th>\n",
       "      <td>424</td>\n",
       "      <td>Natal</td>\n",
       "      <td>BR</td>\n",
       "      <td>75.2</td>\n",
       "      <td>moderate rain</td>\n",
       "      <td>-5.79</td>\n",
       "      <td>-35.21</td>\n",
       "      <td>Villa Park Hotel | Natal</td>\n",
       "    </tr>\n",
       "    <tr>\n",
       "      <th>3</th>\n",
       "      <td>483</td>\n",
       "      <td>Olinda</td>\n",
       "      <td>BR</td>\n",
       "      <td>78.8</td>\n",
       "      <td>light rain</td>\n",
       "      <td>-8.01</td>\n",
       "      <td>-34.86</td>\n",
       "      <td>Hotel 5 Sóis</td>\n",
       "    </tr>\n",
       "  </tbody>\n",
       "</table>\n",
       "</div>"
      ],
      "text/plain": [
       "   City_ID      City Country  Max Temp           Current Description   Lat  \\\n",
       "0      121    Touros      BR      75.2  thunderstorm with light rain -5.20   \n",
       "1      123  Cabedelo      BR      78.8              scattered clouds -6.98   \n",
       "2      424     Natal      BR      75.2                 moderate rain -5.79   \n",
       "3      483    Olinda      BR      78.8                    light rain -8.01   \n",
       "\n",
       "     Lng                Hotel Name  \n",
       "0 -35.46           INN NEW HORIZON  \n",
       "1 -34.83         Lua Mansa Pousada  \n",
       "2 -35.21  Villa Park Hotel | Natal  \n",
       "3 -34.86              Hotel 5 Sóis  "
      ]
     },
     "execution_count": 2,
     "metadata": {},
     "output_type": "execute_result"
    }
   ],
   "source": [
    "# -- Selected 4 Vacation Cities based on grouping in Vacation Map.\n",
    "selected_cities = [\"Touros\", \"Natal\", \"Cabedelo\", \"Olinda\"]\n",
    "\n",
    "# -- Created new dataframe from Selected Cities.\n",
    "#    Resource: https://www.interviewqs.com/ddi_code_snippets/rows_cols_python\n",
    "vacation_hotel_info = pd.DataFrame((vacation_data_df.loc[vacation_data_df[\"City\"].isin(selected_cities)]))\n",
    "\n",
    "# -- Resetting dataframe index and dropping old one. \n",
    "#    Resource: https://stackoverflow.com/questions/20490274/how-to-reset-index-in-a-pandas-dataframe\n",
    "vacation_hotel_info.reset_index(inplace=True, drop=True)\n",
    "\n",
    "# Display dataframe.\n",
    "vacation_hotel_info"
   ]
  },
  {
   "cell_type": "code",
   "execution_count": 3,
   "metadata": {
    "scrolled": false
   },
   "outputs": [
    {
     "data": {
      "application/vnd.jupyter.widget-view+json": {
       "model_id": "da146689594146449b0c62ab938fcae3",
       "version_major": 2,
       "version_minor": 0
      },
      "text/plain": [
       "Figure(layout=FigureLayout(height='420px'))"
      ]
     },
     "metadata": {},
     "output_type": "display_data"
    }
   ],
   "source": [
    "# -- Using list indexing and methods to get Latitude-\n",
    "#    Longitude pairs for each city as tuples.\n",
    "#    Resource: https://www.geeksforgeeks.org/python-convert-list-to-indexed-tuple-list/\n",
    "city_a = list(vacation_hotel_info.loc[0, [\"Lat\",\"Lng\"]])\n",
    "city_b = list(vacation_hotel_info.loc[1, [\"Lat\",\"Lng\"]])\n",
    "city_c = list(vacation_hotel_info.loc[2, [\"Lat\",\"Lng\"]])\n",
    "city_d = list(vacation_hotel_info.loc[3, [\"Lat\",\"Lng\"]])\n",
    "\n",
    "# -- Creating a Directions Layer Map for selected vacation spots.\n",
    "fig = gmaps.figure()\n",
    "\n",
    "# -- Creating drawn route based on Google Maps directions service  \n",
    "#    for locations and assigning waypoints to customize travel.\n",
    "#    Reference: https://jupyter-gmaps.readthedocs.io/en/latest/tutorial.html#directions-layer\n",
    "start2finaldestination = gmaps.directions_layer(\n",
    "    city_a, city_d,\n",
    "    waypoints=[city_c, city_b],\n",
    "    travel_mode = 'DRIVING')\n",
    "\n",
    "fig.add_layer(start2finaldestination)\n",
    "\n",
    "# Call the figure to plot the data.\n",
    "fig"
   ]
  },
  {
   "cell_type": "code",
   "execution_count": 4,
   "metadata": {},
   "outputs": [
    {
     "data": {
      "application/vnd.jupyter.widget-view+json": {
       "model_id": "f4684a21b0da442a97553f17f9537903",
       "version_major": 2,
       "version_minor": 0
      },
      "text/plain": [
       "Figure(layout=FigureLayout(height='420px'))"
      ]
     },
     "metadata": {},
     "output_type": "display_data"
    }
   ],
   "source": [
    "# -- Adding the cities to a marker layer map with a \n",
    "#    pop-up marker for each city that includes:\n",
    "#    - Hotel name\n",
    "#    - City\n",
    "#    - Country\n",
    "#    - Current weather description with the maximum temperature\n",
    "\n",
    "info_box_template = \"\"\"\n",
    "<dl>\n",
    "<dt>Hotel Name</dt><dd>{Hotel Name}</dd>\n",
    "<dt>City</dt><dd>{City}</dd>\n",
    "<dt>Country</dt><dd>{Country}</dd>\n",
    "<dt>Current Weather</dt><dd>{Current Description} and {Max Temp} °F</dd>\n",
    "</dl>\n",
    "\"\"\"\n",
    "\n",
    "# Store the DataFrame Row.\n",
    "hotel_info = [info_box_template.format(**row) for index, row in vacation_hotel_info.iterrows()]\n",
    "\n",
    "# Add a heatmap of temperature for the vacation spots and a pop-up marker for each city.\n",
    "locations = vacation_hotel_info[[\"Lat\", \"Lng\"]]\n",
    "\n",
    "max_temp = vacation_hotel_info[\"Max Temp\"]\n",
    "\n",
    "fig = gmaps.figure(center=(-6.5, -35.0), zoom_level=6.8)\n",
    "\n",
    "marker_layer = gmaps.marker_layer(locations, info_box_content=hotel_info)\n",
    "\n",
    "fig.add_layer(marker_layer)\n",
    "\n",
    "# Call the figure to plot the data.\n",
    "fig"
   ]
  },
  {
   "cell_type": "code",
   "execution_count": null,
   "metadata": {},
   "outputs": [],
   "source": []
  }
 ],
 "metadata": {
  "kernelspec": {
   "display_name": "PythonData",
   "language": "python",
   "name": "pythondata"
  },
  "language_info": {
   "codemirror_mode": {
    "name": "ipython",
    "version": 3
   },
   "file_extension": ".py",
   "mimetype": "text/x-python",
   "name": "python",
   "nbconvert_exporter": "python",
   "pygments_lexer": "ipython3",
   "version": "3.7.7"
  }
 },
 "nbformat": 4,
 "nbformat_minor": 4
}
